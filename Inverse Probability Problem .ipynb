{
 "cells": [
  {
   "cell_type": "code",
   "execution_count": 1,
   "metadata": {
    "collapsed": true
   },
   "outputs": [],
   "source": [
    "import numpy as np\n",
    "import pandas as pd\n",
    "import matplotlib.pyplot as plt\n",
    "\n",
    "plt.style.use('seaborn')\n",
    "%matplotlib inline"
   ]
  },
  {
   "cell_type": "markdown",
   "metadata": {},
   "source": [
    "# Example of an inverse probability problem\n",
    "\n",
    "Like forward probability problems, inverse probability problems involve a\n",
    "generative model of a process, but instead of computing the probability distri-\n",
    "bution of some quantity produced by the process, we compute the conditional\n",
    "probability of one or more of the unobserved variables in the process, given\n",
    "the observed variables. This invariably requires the use of Bayes’ theorem.\n",
    "\n",
    "There are eleven urns labelled by $u ∈ {0, 1, 2, . . . , 10},$ each containing ten balls. Urn $u$ contains $u$ black balls and $10 − u$ white balls. Fred selects an urn $u$ at random and draws $N$ times with replacement from that urn, obtaining $n_B$ blacks and $N − n_B$ whites. Fred’s friend, Bill, looks on. If after $N = 10$ draws $n_B = 3$ blacks have been drawn, what is the probability that the urn Fred is using is urn $u$, from Bill’s point of view? (Bill doesn’t know the value of $u$.)"
   ]
  },
  {
   "cell_type": "markdown",
   "metadata": {},
   "source": [
    "## Análisis del problema\n",
    "\n",
    "Quiero obtener la probabilidad correspondiente a cada urna (la distribución de probabilidad de las urnas) de extraer 3 esferas negras y 7 esferas blancas en 10 repeticiones del experimento básico de extraer una esfera con repetición:\n",
    "\n",
    "$$ P\\left(u \\mid n_B, N\\right) $$"
   ]
  },
  {
   "cell_type": "markdown",
   "metadata": {},
   "source": [
    "## Resolución\n",
    "\n",
    "La probabilidad compuesta de las variables aleatorias $u$ y $n$ puede escribirse como\n",
    "\n",
    "\\begin{align}\n",
    "P\\left( u,n_{B} \\mid N \\right) & = P\\left(n_B \\mid u,N \\right)P \\left(u\\right).\n",
    "\\end{align}\n",
    "\n",
    "Podemos entonces obtener la probabilidad condicional de $u$ dado $n_B$\n",
    "\n",
    "\\begin{align}\n",
    "P\\left(u \\mid n_B, N\\right) & = \\frac{P\\left( u,n_{B} \\mid N \\right)}{P\\left( n_{B} \\mid N \\right)} \\\\\n",
    "\\\\\n",
    "& = \\frac{P\\left(n_B \\mid u,N \\right)P(u)}{P\\left( n_{B} \\mid N \\right)}\n",
    "\\end{align}\n",
    "\n",
    "La probabilidad marginal de $u$ es $P\\left(u\\right)=\\frac{1}{11}$ para todo $u$.\n",
    "\n",
    "La probabilidad de $n_B$ dados $u$ y $N$\n",
    "\n",
    "\\begin{align}\n",
    "P\\left( n_B \\mid u,N\\right) & = \\binom{N}{n_B}f_u^{n_B}(1-f_u)^{N-n_B}\n",
    "\\end{align}\n",
    "\n",
    "La probabilidad marginal de $n_B$\n",
    "\n",
    "\\begin{align}\n",
    "P\\left(n_B \\mid N\\right) & = \\sum_{u}{P\\left( u,n_{B} \\mid N \\right) = \\sum_u{P\\left(u\\right)P\\left( n_{B} \\mid u,N \\right)}}\n",
    "\\end{align}\n",
    "\n",
    "Entonces\n",
    "$$ P\\left(u \\mid n_B, N\\right) = \\frac{1}{P\\left(n_B \\mid N\\right)}\\frac{1}{11}\\binom{N}{n_B}f_u^{n_B}(1-f_u)^{N-n_B} $$"
   ]
  },
  {
   "cell_type": "markdown",
   "metadata": {},
   "source": [
    "$$ P(n_B=3 \\mid N=10) $$"
   ]
  },
  {
   "cell_type": "code",
   "execution_count": 2,
   "metadata": {},
   "outputs": [
    {
     "data": {
      "text/plain": [
       "0.082726609090909092"
      ]
     },
     "execution_count": 2,
     "metadata": {},
     "output_type": "execute_result"
    }
   ],
   "source": [
    "def nb_given_u(u):\n",
    "    return 120 * ((u/10.0) ** 3) * (((10 - u)/10.0) ** 7)\n",
    "\n",
    "u = np.arange(11)\n",
    "marg_nb = np.sum(nb_given_u(u) * 1/11)\n",
    "marg_nb"
   ]
  },
  {
   "cell_type": "code",
   "execution_count": 3,
   "metadata": {},
   "outputs": [
    {
     "data": {
      "text/html": [
       "<div>\n",
       "<style>\n",
       "    .dataframe thead tr:only-child th {\n",
       "        text-align: right;\n",
       "    }\n",
       "\n",
       "    .dataframe thead th {\n",
       "        text-align: left;\n",
       "    }\n",
       "\n",
       "    .dataframe tbody tr th {\n",
       "        vertical-align: top;\n",
       "    }\n",
       "</style>\n",
       "<table border=\"1\" class=\"dataframe\">\n",
       "  <thead>\n",
       "    <tr style=\"text-align: right;\">\n",
       "      <th></th>\n",
       "      <th>P(u|nb)</th>\n",
       "    </tr>\n",
       "  </thead>\n",
       "  <tbody>\n",
       "    <tr>\n",
       "      <th>0</th>\n",
       "      <td>0.000000</td>\n",
       "    </tr>\n",
       "    <tr>\n",
       "      <th>1</th>\n",
       "      <td>0.063073</td>\n",
       "    </tr>\n",
       "    <tr>\n",
       "      <th>2</th>\n",
       "      <td>0.221240</td>\n",
       "    </tr>\n",
       "    <tr>\n",
       "      <th>3</th>\n",
       "      <td>0.293220</td>\n",
       "    </tr>\n",
       "    <tr>\n",
       "      <th>4</th>\n",
       "      <td>0.236256</td>\n",
       "    </tr>\n",
       "    <tr>\n",
       "      <th>5</th>\n",
       "      <td>0.128779</td>\n",
       "    </tr>\n",
       "    <tr>\n",
       "      <th>6</th>\n",
       "      <td>0.046668</td>\n",
       "    </tr>\n",
       "    <tr>\n",
       "      <th>7</th>\n",
       "      <td>0.009892</td>\n",
       "    </tr>\n",
       "    <tr>\n",
       "      <th>8</th>\n",
       "      <td>0.000864</td>\n",
       "    </tr>\n",
       "    <tr>\n",
       "      <th>9</th>\n",
       "      <td>0.000010</td>\n",
       "    </tr>\n",
       "    <tr>\n",
       "      <th>10</th>\n",
       "      <td>0.000000</td>\n",
       "    </tr>\n",
       "  </tbody>\n",
       "</table>\n",
       "</div>"
      ],
      "text/plain": [
       "     P(u|nb)\n",
       "0   0.000000\n",
       "1   0.063073\n",
       "2   0.221240\n",
       "3   0.293220\n",
       "4   0.236256\n",
       "5   0.128779\n",
       "6   0.046668\n",
       "7   0.009892\n",
       "8   0.000864\n",
       "9   0.000010\n",
       "10  0.000000"
      ]
     },
     "execution_count": 3,
     "metadata": {},
     "output_type": "execute_result"
    }
   ],
   "source": [
    "def u_given_nb(u, marg_nb):\n",
    "    return (1/(marg_nb*11)) * 120 * ((u/10.0) ** 3) * (((10 - u)/10.0) ** 7)\n",
    "\n",
    "df = pd.DataFrame(u_given_nb(u, marg_nb), columns=['P(u|nb)'], index=range(11))\n",
    "df"
   ]
  },
  {
   "cell_type": "code",
   "execution_count": 11,
   "metadata": {},
   "outputs": [
    {
     "data": {
      "text/plain": [
       "<matplotlib.axes._subplots.AxesSubplot at 0x7fe318ed3588>"
      ]
     },
     "execution_count": 11,
     "metadata": {},
     "output_type": "execute_result"
    },
    {
     "data": {
      "image/png": "[encoded data removed]",
      "text/plain": [
       "<matplotlib.figure.Figure at 0x7fe318ed2940>"
      ]
     },
     "metadata": {},
     "output_type": "display_data"
    }
   ],
   "source": [
    "df.plot(kind='bar')"
   ]
  }
 ],
 "metadata": {
  "kernelspec": {
   "display_name": "Python 3",
   "language": "python",
   "name": "python3"
  },
  "language_info": {
   "codemirror_mode": {
    "name": "ipython",
    "version": 3
   },
   "file_extension": ".py",
   "mimetype": "text/x-python",
   "name": "python",
   "nbconvert_exporter": "python",
   "pygments_lexer": "ipython3",
   "version": "3.5.2"
  }
 },
 "nbformat": 4,
 "nbformat_minor": 2
}
