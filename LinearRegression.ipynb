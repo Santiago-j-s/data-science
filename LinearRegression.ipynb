{
 "cells": [
  {
   "cell_type": "markdown",
   "metadata": {},
   "source": [
    "# Obteniendo la recta de regresión lineal a partir de un conjunto de datos\n",
    "\n",
    "Se tiene una tabla con valores del número de habitantes y los ingresos obtenidas por diferentes ciudades, se desea saber si hay una relación lineal entre el número de habitantes de una ciudad y los ingresos que esta genera."
   ]
  },
  {
   "cell_type": "code",
   "execution_count": 1,
   "metadata": {
    "collapsed": true
   },
   "outputs": [],
   "source": [
    "import numpy as np\n",
    "import pandas as pd\n",
    "import matplotlib.pyplot as plt\n",
    "import matplotlib.cm as cm\n",
    "\n",
    "%matplotlib inline\n",
    "plt.style.use('ggplot')\n",
    "colors = cm.tab10.colors"
   ]
  },
  {
   "cell_type": "markdown",
   "metadata": {},
   "source": [
    "## Importamos los datos"
   ]
  },
  {
   "cell_type": "code",
   "execution_count": 2,
   "metadata": {},
   "outputs": [
    {
     "data": {
      "text/html": [
       "<div>\n",
       "<style>\n",
       "    .dataframe thead tr:only-child th {\n",
       "        text-align: right;\n",
       "    }\n",
       "\n",
       "    .dataframe thead th {\n",
       "        text-align: left;\n",
       "    }\n",
       "\n",
       "    .dataframe tbody tr th {\n",
       "        vertical-align: top;\n",
       "    }\n",
       "</style>\n",
       "<table border=\"1\" class=\"dataframe\">\n",
       "  <thead>\n",
       "    <tr style=\"text-align: right;\">\n",
       "      <th></th>\n",
       "      <th>Population</th>\n",
       "      <th>Profit</th>\n",
       "    </tr>\n",
       "  </thead>\n",
       "  <tbody>\n",
       "    <tr>\n",
       "      <th>0</th>\n",
       "      <td>6.1101</td>\n",
       "      <td>17.59200</td>\n",
       "    </tr>\n",
       "    <tr>\n",
       "      <th>1</th>\n",
       "      <td>5.5277</td>\n",
       "      <td>9.13020</td>\n",
       "    </tr>\n",
       "    <tr>\n",
       "      <th>2</th>\n",
       "      <td>8.5186</td>\n",
       "      <td>13.66200</td>\n",
       "    </tr>\n",
       "    <tr>\n",
       "      <th>3</th>\n",
       "      <td>7.0032</td>\n",
       "      <td>11.85400</td>\n",
       "    </tr>\n",
       "    <tr>\n",
       "      <th>4</th>\n",
       "      <td>5.8598</td>\n",
       "      <td>6.82330</td>\n",
       "    </tr>\n",
       "    <tr>\n",
       "      <th>5</th>\n",
       "      <td>8.3829</td>\n",
       "      <td>11.88600</td>\n",
       "    </tr>\n",
       "    <tr>\n",
       "      <th>6</th>\n",
       "      <td>7.4764</td>\n",
       "      <td>4.34830</td>\n",
       "    </tr>\n",
       "    <tr>\n",
       "      <th>7</th>\n",
       "      <td>8.5781</td>\n",
       "      <td>12.00000</td>\n",
       "    </tr>\n",
       "    <tr>\n",
       "      <th>8</th>\n",
       "      <td>6.4862</td>\n",
       "      <td>6.59870</td>\n",
       "    </tr>\n",
       "    <tr>\n",
       "      <th>9</th>\n",
       "      <td>5.0546</td>\n",
       "      <td>3.81660</td>\n",
       "    </tr>\n",
       "    <tr>\n",
       "      <th>10</th>\n",
       "      <td>5.7107</td>\n",
       "      <td>3.25220</td>\n",
       "    </tr>\n",
       "    <tr>\n",
       "      <th>11</th>\n",
       "      <td>14.1640</td>\n",
       "      <td>15.50500</td>\n",
       "    </tr>\n",
       "    <tr>\n",
       "      <th>12</th>\n",
       "      <td>5.7340</td>\n",
       "      <td>3.15510</td>\n",
       "    </tr>\n",
       "    <tr>\n",
       "      <th>13</th>\n",
       "      <td>8.4084</td>\n",
       "      <td>7.22580</td>\n",
       "    </tr>\n",
       "    <tr>\n",
       "      <th>14</th>\n",
       "      <td>5.6407</td>\n",
       "      <td>0.71618</td>\n",
       "    </tr>\n",
       "    <tr>\n",
       "      <th>15</th>\n",
       "      <td>5.3794</td>\n",
       "      <td>3.51290</td>\n",
       "    </tr>\n",
       "    <tr>\n",
       "      <th>16</th>\n",
       "      <td>6.3654</td>\n",
       "      <td>5.30480</td>\n",
       "    </tr>\n",
       "    <tr>\n",
       "      <th>17</th>\n",
       "      <td>5.1301</td>\n",
       "      <td>0.56077</td>\n",
       "    </tr>\n",
       "    <tr>\n",
       "      <th>18</th>\n",
       "      <td>6.4296</td>\n",
       "      <td>3.65180</td>\n",
       "    </tr>\n",
       "    <tr>\n",
       "      <th>19</th>\n",
       "      <td>7.0708</td>\n",
       "      <td>5.38930</td>\n",
       "    </tr>\n",
       "    <tr>\n",
       "      <th>20</th>\n",
       "      <td>6.1891</td>\n",
       "      <td>3.13860</td>\n",
       "    </tr>\n",
       "    <tr>\n",
       "      <th>21</th>\n",
       "      <td>20.2700</td>\n",
       "      <td>21.76700</td>\n",
       "    </tr>\n",
       "    <tr>\n",
       "      <th>22</th>\n",
       "      <td>5.4901</td>\n",
       "      <td>4.26300</td>\n",
       "    </tr>\n",
       "    <tr>\n",
       "      <th>23</th>\n",
       "      <td>6.3261</td>\n",
       "      <td>5.18750</td>\n",
       "    </tr>\n",
       "    <tr>\n",
       "      <th>24</th>\n",
       "      <td>5.5649</td>\n",
       "      <td>3.08250</td>\n",
       "    </tr>\n",
       "    <tr>\n",
       "      <th>25</th>\n",
       "      <td>18.9450</td>\n",
       "      <td>22.63800</td>\n",
       "    </tr>\n",
       "    <tr>\n",
       "      <th>26</th>\n",
       "      <td>12.8280</td>\n",
       "      <td>13.50100</td>\n",
       "    </tr>\n",
       "    <tr>\n",
       "      <th>27</th>\n",
       "      <td>10.9570</td>\n",
       "      <td>7.04670</td>\n",
       "    </tr>\n",
       "    <tr>\n",
       "      <th>28</th>\n",
       "      <td>13.1760</td>\n",
       "      <td>14.69200</td>\n",
       "    </tr>\n",
       "    <tr>\n",
       "      <th>29</th>\n",
       "      <td>22.2030</td>\n",
       "      <td>24.14700</td>\n",
       "    </tr>\n",
       "    <tr>\n",
       "      <th>...</th>\n",
       "      <td>...</td>\n",
       "      <td>...</td>\n",
       "    </tr>\n",
       "    <tr>\n",
       "      <th>67</th>\n",
       "      <td>10.2360</td>\n",
       "      <td>7.77540</td>\n",
       "    </tr>\n",
       "    <tr>\n",
       "      <th>68</th>\n",
       "      <td>5.4994</td>\n",
       "      <td>1.01730</td>\n",
       "    </tr>\n",
       "    <tr>\n",
       "      <th>69</th>\n",
       "      <td>20.3410</td>\n",
       "      <td>20.99200</td>\n",
       "    </tr>\n",
       "    <tr>\n",
       "      <th>70</th>\n",
       "      <td>10.1360</td>\n",
       "      <td>6.67990</td>\n",
       "    </tr>\n",
       "    <tr>\n",
       "      <th>71</th>\n",
       "      <td>7.3345</td>\n",
       "      <td>4.02590</td>\n",
       "    </tr>\n",
       "    <tr>\n",
       "      <th>72</th>\n",
       "      <td>6.0062</td>\n",
       "      <td>1.27840</td>\n",
       "    </tr>\n",
       "    <tr>\n",
       "      <th>73</th>\n",
       "      <td>7.2259</td>\n",
       "      <td>3.34110</td>\n",
       "    </tr>\n",
       "    <tr>\n",
       "      <th>74</th>\n",
       "      <td>5.0269</td>\n",
       "      <td>-2.68070</td>\n",
       "    </tr>\n",
       "    <tr>\n",
       "      <th>75</th>\n",
       "      <td>6.5479</td>\n",
       "      <td>0.29678</td>\n",
       "    </tr>\n",
       "    <tr>\n",
       "      <th>76</th>\n",
       "      <td>7.5386</td>\n",
       "      <td>3.88450</td>\n",
       "    </tr>\n",
       "    <tr>\n",
       "      <th>77</th>\n",
       "      <td>5.0365</td>\n",
       "      <td>5.70140</td>\n",
       "    </tr>\n",
       "    <tr>\n",
       "      <th>78</th>\n",
       "      <td>10.2740</td>\n",
       "      <td>6.75260</td>\n",
       "    </tr>\n",
       "    <tr>\n",
       "      <th>79</th>\n",
       "      <td>5.1077</td>\n",
       "      <td>2.05760</td>\n",
       "    </tr>\n",
       "    <tr>\n",
       "      <th>80</th>\n",
       "      <td>5.7292</td>\n",
       "      <td>0.47953</td>\n",
       "    </tr>\n",
       "    <tr>\n",
       "      <th>81</th>\n",
       "      <td>5.1884</td>\n",
       "      <td>0.20421</td>\n",
       "    </tr>\n",
       "    <tr>\n",
       "      <th>82</th>\n",
       "      <td>6.3557</td>\n",
       "      <td>0.67861</td>\n",
       "    </tr>\n",
       "    <tr>\n",
       "      <th>83</th>\n",
       "      <td>9.7687</td>\n",
       "      <td>7.54350</td>\n",
       "    </tr>\n",
       "    <tr>\n",
       "      <th>84</th>\n",
       "      <td>6.5159</td>\n",
       "      <td>5.34360</td>\n",
       "    </tr>\n",
       "    <tr>\n",
       "      <th>85</th>\n",
       "      <td>8.5172</td>\n",
       "      <td>4.24150</td>\n",
       "    </tr>\n",
       "    <tr>\n",
       "      <th>86</th>\n",
       "      <td>9.1802</td>\n",
       "      <td>6.79810</td>\n",
       "    </tr>\n",
       "    <tr>\n",
       "      <th>87</th>\n",
       "      <td>6.0020</td>\n",
       "      <td>0.92695</td>\n",
       "    </tr>\n",
       "    <tr>\n",
       "      <th>88</th>\n",
       "      <td>5.5204</td>\n",
       "      <td>0.15200</td>\n",
       "    </tr>\n",
       "    <tr>\n",
       "      <th>89</th>\n",
       "      <td>5.0594</td>\n",
       "      <td>2.82140</td>\n",
       "    </tr>\n",
       "    <tr>\n",
       "      <th>90</th>\n",
       "      <td>5.7077</td>\n",
       "      <td>1.84510</td>\n",
       "    </tr>\n",
       "    <tr>\n",
       "      <th>91</th>\n",
       "      <td>7.6366</td>\n",
       "      <td>4.29590</td>\n",
       "    </tr>\n",
       "    <tr>\n",
       "      <th>92</th>\n",
       "      <td>5.8707</td>\n",
       "      <td>7.20290</td>\n",
       "    </tr>\n",
       "    <tr>\n",
       "      <th>93</th>\n",
       "      <td>5.3054</td>\n",
       "      <td>1.98690</td>\n",
       "    </tr>\n",
       "    <tr>\n",
       "      <th>94</th>\n",
       "      <td>8.2934</td>\n",
       "      <td>0.14454</td>\n",
       "    </tr>\n",
       "    <tr>\n",
       "      <th>95</th>\n",
       "      <td>13.3940</td>\n",
       "      <td>9.05510</td>\n",
       "    </tr>\n",
       "    <tr>\n",
       "      <th>96</th>\n",
       "      <td>5.4369</td>\n",
       "      <td>0.61705</td>\n",
       "    </tr>\n",
       "  </tbody>\n",
       "</table>\n",
       "<p>97 rows × 2 columns</p>\n",
       "</div>"
      ],
      "text/plain": [
       "    Population    Profit\n",
       "0       6.1101  17.59200\n",
       "1       5.5277   9.13020\n",
       "2       8.5186  13.66200\n",
       "3       7.0032  11.85400\n",
       "4       5.8598   6.82330\n",
       "5       8.3829  11.88600\n",
       "6       7.4764   4.34830\n",
       "7       8.5781  12.00000\n",
       "8       6.4862   6.59870\n",
       "9       5.0546   3.81660\n",
       "10      5.7107   3.25220\n",
       "11     14.1640  15.50500\n",
       "12      5.7340   3.15510\n",
       "13      8.4084   7.22580\n",
       "14      5.6407   0.71618\n",
       "15      5.3794   3.51290\n",
       "16      6.3654   5.30480\n",
       "17      5.1301   0.56077\n",
       "18      6.4296   3.65180\n",
       "19      7.0708   5.38930\n",
       "20      6.1891   3.13860\n",
       "21     20.2700  21.76700\n",
       "22      5.4901   4.26300\n",
       "23      6.3261   5.18750\n",
       "24      5.5649   3.08250\n",
       "25     18.9450  22.63800\n",
       "26     12.8280  13.50100\n",
       "27     10.9570   7.04670\n",
       "28     13.1760  14.69200\n",
       "29     22.2030  24.14700\n",
       "..         ...       ...\n",
       "67     10.2360   7.77540\n",
       "68      5.4994   1.01730\n",
       "69     20.3410  20.99200\n",
       "70     10.1360   6.67990\n",
       "71      7.3345   4.02590\n",
       "72      6.0062   1.27840\n",
       "73      7.2259   3.34110\n",
       "74      5.0269  -2.68070\n",
       "75      6.5479   0.29678\n",
       "76      7.5386   3.88450\n",
       "77      5.0365   5.70140\n",
       "78     10.2740   6.75260\n",
       "79      5.1077   2.05760\n",
       "80      5.7292   0.47953\n",
       "81      5.1884   0.20421\n",
       "82      6.3557   0.67861\n",
       "83      9.7687   7.54350\n",
       "84      6.5159   5.34360\n",
       "85      8.5172   4.24150\n",
       "86      9.1802   6.79810\n",
       "87      6.0020   0.92695\n",
       "88      5.5204   0.15200\n",
       "89      5.0594   2.82140\n",
       "90      5.7077   1.84510\n",
       "91      7.6366   4.29590\n",
       "92      5.8707   7.20290\n",
       "93      5.3054   1.98690\n",
       "94      8.2934   0.14454\n",
       "95     13.3940   9.05510\n",
       "96      5.4369   0.61705\n",
       "\n",
       "[97 rows x 2 columns]"
      ]
     },
     "execution_count": 2,
     "metadata": {},
     "output_type": "execute_result"
    }
   ],
   "source": [
    "df = pd.read_csv('ex1data1.txt', names=['Population', 'Profit'])\n",
    "df"
   ]
  },
  {
   "cell_type": "markdown",
   "metadata": {},
   "source": [
    "## Graficamos una nube de puntos para ver la posible relación entre los datos"
   ]
  },
  {
   "cell_type": "code",
   "execution_count": 3,
   "metadata": {},
   "outputs": [
    {
     "data": {
      "image/png": "[encoded data removed]",
      "text/plain": [
       "<matplotlib.figure.Figure at 0x7fc64ae512e8>"
      ]
     },
     "metadata": {},
     "output_type": "display_data"
    }
   ],
   "source": [
    "plt.scatter(x=df.Population, y=df.Profit, color=colors[1], alpha=0.7)\n",
    "\n",
    "plt.xlabel('Population (in 10,000s)')\n",
    "plt.ylabel('Profit (in 10,000$)')\n",
    "\n",
    "plt.show()"
   ]
  },
  {
   "cell_type": "markdown",
   "metadata": {},
   "source": [
    "## Añadimos una columna de ceros a la matriz de predictores"
   ]
  },
  {
   "cell_type": "code",
   "execution_count": 4,
   "metadata": {
    "collapsed": true
   },
   "outputs": [],
   "source": [
    "m = len(df)\n",
    "df['x0'] = np.ones(m)\n",
    "\n",
    "X = np.array(df[['x0', 'Population']])\n",
    "y = np.array(df['Profit'])"
   ]
  },
  {
   "cell_type": "markdown",
   "metadata": {},
   "source": [
    "## Funciones para calcular el costo y el descenso por gradiente de una matriz theta considerando los predictores y resultados"
   ]
  },
  {
   "cell_type": "code",
   "execution_count": 5,
   "metadata": {
    "collapsed": true
   },
   "outputs": [],
   "source": [
    "def plot(x, y, pred_y):\n",
    "    plt.scatter(x, y, color=colors[0], alpha=0.3)\n",
    "    plt.plot(df.Population, pred_y, '--', color=colors[0])\n",
    "    plt.xlabel('Population (in 10,000s)')\n",
    "    plt.ylabel('Profit (in 10,000$)')\n",
    "\n",
    "def calculateCost(X, y, theta):\n",
    "    h = X * theta\n",
    "    error = h.T - y\n",
    "    error_sqr = np.square(error)\n",
    "    return np.sum(error_sqr) / (2 * m)\n",
    "\n",
    "def gradientDescent(X, y, theta, alpha, num_iters):\n",
    "    for n in range(num_iters):\n",
    "        # plot(df.Population, df.Profit, X, theta)\n",
    "        # plt.savefig('fig{:04d}.png'.format(n))\n",
    "        # plt.clf()\n",
    "            \n",
    "        h = X.dot(theta)\n",
    "        error = h.T - y\n",
    "        theta_change = X.T.dot(error.T) * alpha / m\n",
    "        theta = theta - theta_change\n",
    "\n",
    "    return theta"
   ]
  },
  {
   "cell_type": "markdown",
   "metadata": {},
   "source": [
    "## Graficamos la recta resultante de la matriz theta final luego de aplicar el descenso por gradiente para obtener de forma iterativa los valores de los parámetros de la recta de regresión"
   ]
  },
  {
   "cell_type": "code",
   "execution_count": 6,
   "metadata": {},
   "outputs": [
    {
     "data": {
      "image/png": "[encoded data removed]",
      "text/plain": [
       "<matplotlib.figure.Figure at 0x7fc64adb97b8>"
      ]
     },
     "metadata": {},
     "output_type": "display_data"
    }
   ],
   "source": [
    "theta = np.zeros([2, 1])\n",
    "theta = gradientDescent(X, y, theta, 0.01, 1000)\n",
    "\n",
    "pred_y = np.dot(X, theta)\n",
    "plot(df.Population, df.Profit, pred_y)\n",
    "\n",
    "plt.show()"
   ]
  },
  {
   "cell_type": "markdown",
   "metadata": {},
   "source": [
    "## Usando sklearn para comparar "
   ]
  },
  {
   "cell_type": "code",
   "execution_count": 7,
   "metadata": {},
   "outputs": [
    {
     "data": {
      "text/plain": [
       "LinearRegression(copy_X=True, fit_intercept=True, n_jobs=1, normalize=False)"
      ]
     },
     "execution_count": 7,
     "metadata": {},
     "output_type": "execute_result"
    }
   ],
   "source": [
    "from sklearn.linear_model import LinearRegression\n",
    "\n",
    "X = df[['Population']]\n",
    "y = df[['Profit']]\n",
    "\n",
    "classifier = LinearRegression()\n",
    "classifier.fit(X, y)"
   ]
  },
  {
   "cell_type": "code",
   "execution_count": 8,
   "metadata": {},
   "outputs": [
    {
     "data": {
      "image/png": "[encoded data removed]",
      "text/plain": [
       "<matplotlib.figure.Figure at 0x7fc6753977b8>"
      ]
     },
     "metadata": {},
     "output_type": "display_data"
    }
   ],
   "source": [
    "plot(df.Population, df.Profit, classifier.predict(X))\n",
    "\n",
    "plt.show()"
   ]
  },
  {
   "cell_type": "markdown",
   "metadata": {},
   "source": [
    "## MAPE entre los valores de sklearn y los míos"
   ]
  },
  {
   "cell_type": "code",
   "execution_count": 9,
   "metadata": {},
   "outputs": [
    {
     "name": "stdout",
     "output_type": "stream",
     "text": [
      "True\n"
     ]
    },
    {
     "data": {
      "text/plain": [
       "4.8777861389654085"
      ]
     },
     "execution_count": 9,
     "metadata": {},
     "output_type": "execute_result"
    }
   ],
   "source": [
    "diff = pd.DataFrame([pred_y[:, 0], classifier.predict(X)[:, 0]]).T\n",
    "\n",
    "# MAPE is sensitive to small values (in fact, is undefined when one or more of the actual values is zero)\n",
    "# so is important to verify that there aren't small values in the columns\n",
    "small_values = diff[(diff[0] < 0.1) | (diff[1] < 0.1)]\n",
    "print(small_values.empty)\n",
    "\n",
    "(100 * np.mean((diff[0] - diff[1])/diff[0]))"
   ]
  }
 ],
 "metadata": {
  "kernelspec": {
   "display_name": "Python 3",
   "language": "python",
   "name": "python3"
  },
  "language_info": {
   "codemirror_mode": {
    "name": "ipython",
    "version": 3
   },
   "file_extension": ".py",
   "mimetype": "text/x-python",
   "name": "python",
   "nbconvert_exporter": "python",
   "pygments_lexer": "ipython3",
   "version": "3.5.2"
  }
 },
 "nbformat": 4,
 "nbformat_minor": 2
}
